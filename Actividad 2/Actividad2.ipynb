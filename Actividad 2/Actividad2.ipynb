{
  "nbformat": 4,
  "nbformat_minor": 0,
  "metadata": {
    "colab": {
      "name": "Actividad2.ipynb",
      "provenance": [],
      "collapsed_sections": []
    },
    "kernelspec": {
      "name": "python3",
      "display_name": "Python 3"
    }
  },
  "cells": [
    {
      "cell_type": "markdown",
      "metadata": {
        "id": "0ZUEtGyURCFG"
      },
      "source": [
        "#**Aprendiendo a programar en Phyton.**\r\n",
        "\r\n",
        " # Ejercicio 1. \r\n",
        "\r\n",
        "Modificaremos el código que se muestra a continuación (este codigo es para calcular el área de un rectangulo) para calcular el area de un circulo y una elipse."
      ]
    },
    {
      "cell_type": "code",
      "metadata": {
        "id": "Twq8h3l5W0SS"
      },
      "source": [
        "#Usamos una biblioteca para poder utilizar el número pi\r\n",
        "import numpy as np"
      ],
      "execution_count": null,
      "outputs": []
    },
    {
      "cell_type": "code",
      "metadata": {
        "id": "RIG8VuZc821G"
      },
      "source": [
        "# Se utiliza el símbolo # para hacer comentarios.\r\n",
        "# Se define una función de 2 variables para calcular el área.  \r\n",
        "def area(x, y):\r\n",
        "    return x*y\r\n",
        "\r\n",
        "print(\"Proporciona el largo y altura del rectángulo: \", end=\"\")\r\n",
        "l = float(input())\r\n",
        "w = float(input())\r\n",
        "a = area(l, w)\r\n",
        "# Imprime el valor del área en formato libre.\r\n",
        "print(\"\\nArea = \", a)\r\n",
        "# Imprime el valor del área con 2 decimales. \r\n",
        "print(\"\\nArea = {:.2f}\".format(a))"
      ],
      "execution_count": null,
      "outputs": []
    },
    {
      "cell_type": "markdown",
      "metadata": {
        "id": "R9jbA6ZDQ7LQ"
      },
      "source": [
        "# Área de una circunferencía\r\n",
        "\r\n",
        "Utiizaremos la fórmula $$ A=π*r^2 $$\r\n",
        "\r\n",
        "Donde utilizaremos el programa de tipo interactivo para calcular el área de la circunferencia, únicamente proporcionando el radio.\r\n",
        "\r\n",
        "\r\n",
        "\r\n"
      ]
    },
    {
      "cell_type": "code",
      "metadata": {
        "colab": {
          "base_uri": "https://localhost:8080/"
        },
        "id": "mVCBG2JlSrBO",
        "outputId": "9d2b0b59-db8b-49e7-9105-98f8b14e9601"
      },
      "source": [
        "#Definimos una función de una variable donde esta será el radio del círculo para calcular el area\r\n",
        "def area(r):\r\n",
        "    return np.pi*(r**2)\r\n",
        "\r\n",
        "#Pedimos el radio del círculo\r\n",
        "print(\"Proporcione el radio del círculo: \",end=\"\")\r\n",
        "r = float(input())\r\n",
        "a = area(r)\r\n",
        "print(\"\\nArea = {:.2f}\".format(a))\r\n"
      ],
      "execution_count": null,
      "outputs": [
        {
          "output_type": "stream",
          "text": [
            "Proporcione el radio del círculo: 5\n",
            "\n",
            "Area = 78.54\n"
          ],
          "name": "stdout"
        }
      ]
    },
    {
      "cell_type": "markdown",
      "metadata": {
        "id": "uZqeyAOcYEMH"
      },
      "source": [
        "# Área de una elipse\r\n",
        "Utilizaremos la fórmula\r\n",
        "\r\n",
        "$$ A = \\pi * a*b $$\r\n",
        "\r\n",
        "Donde utilizaremos el programa de tipo interactivo para calcular el área de la de la elipse, únicamente proporcionando los semiejes a (mayor) y b (menor).\r\n",
        "\r\n",
        "\r\n"
      ]
    },
    {
      "cell_type": "code",
      "metadata": {
        "colab": {
          "base_uri": "https://localhost:8080/"
        },
        "id": "fiu1C8B9YI94",
        "outputId": "f41375f9-2c22-425f-dd42-6b6ec8c98d77"
      },
      "source": [
        "# Se define una función de 2 variables para calcular el área.  \r\n",
        "def area(a, b):\r\n",
        "    return np.pi*a*b\r\n",
        "\r\n",
        "print(\"Proporciona el semieje MAYOR y el MENOR: \", end=\"\")\r\n",
        "a = float(input())\r\n",
        "b = float(input())\r\n",
        "a = area(a, b)\r\n",
        "# Imprime el valor del área en formato libre.\r\n",
        "print(\"\\nArea = \", a)\r\n",
        "# Imprime el valor del área con 2 decimales. \r\n",
        "print(\"\\nArea = {:.2f}\".format(a))"
      ],
      "execution_count": null,
      "outputs": [
        {
          "output_type": "stream",
          "text": [
            "Proporciona el semieje MAYOR y el MENOR: 9\n",
            "8\n",
            "\n",
            "Area =  226.1946710584651\n",
            "\n",
            "Area = 226.19\n"
          ],
          "name": "stdout"
        }
      ]
    },
    {
      "cell_type": "markdown",
      "metadata": {
        "id": "g3y8nSCqZdzb"
      },
      "source": [
        "# Volumen de una esfera\r\n",
        "\r\n",
        "Utilizaremos la formula:\r\n",
        "\r\n",
        "$$ V = \\pi *R^3* \\frac{4}{3} $$\r\n",
        "\r\n",
        "Para calcular el volumen de la esfera con el programa interactivo proporcionando únicamente el radio de la esfera.\r\n",
        "\r\n",
        "\r\n",
        "\r\n",
        "\r\n"
      ]
    },
    {
      "cell_type": "code",
      "metadata": {
        "colab": {
          "base_uri": "https://localhost:8080/"
        },
        "id": "wGqYSMQHZbk8",
        "outputId": "dabeb281-647d-4156-de37-95c15dc858a1"
      },
      "source": [
        "#Establecemos una función de una variable para obtener el volumen a partir del radio\r\n",
        "def Volumen(R):\r\n",
        "    return np.pi*(R**3)*(4/3)\r\n",
        "\r\n",
        "#Pedir que se proporcione un radio\r\n",
        "print(\"Proporcione el radio de la esfera: \", end=\"\")\r\n",
        "R = float(input())\r\n",
        "a = Volumen(R)\r\n",
        "\r\n",
        "#Presentar resultado \r\n",
        "print(\"\\nVolumen = {:.2f}\" .format(a))"
      ],
      "execution_count": null,
      "outputs": [
        {
          "output_type": "stream",
          "text": [
            "Proporcione el radio de la esfera: 5\n",
            "\n",
            "Volumen = 523.60\n"
          ],
          "name": "stdout"
        }
      ]
    },
    {
      "cell_type": "markdown",
      "metadata": {
        "id": "UCvClWfsbvpi"
      },
      "source": [
        "# Volumen de un cilindro circular\r\n",
        "Utilizaremos la fórmula :\r\n",
        "$$ V=\\pi r^2h$$\r\n",
        "Para calcular el volumen de un cilindro circular proporcionando únicamente el radio y la altura del cilindro.\r\n"
      ]
    },
    {
      "cell_type": "code",
      "metadata": {
        "colab": {
          "base_uri": "https://localhost:8080/"
        },
        "id": "HsFLD1uhb2CN",
        "outputId": "fc7725e1-1157-4e18-a5a9-72cc0b0e7f82"
      },
      "source": [
        "# Se define una función de 2 variables (radio y altura) para calcular el volumen .  \r\n",
        "def Volumen(r, h):\r\n",
        "    return np.pi*(r**2)*h\r\n",
        "\r\n",
        "#Pedimos los datos del cilindro\r\n",
        "print(\"Proporcionar primero el RADIO del cilindro y después se ALTURA: \", end=\"\")\r\n",
        "r = float(input())\r\n",
        "h = float(input())\r\n",
        "a = Volumen(r, h)\r\n",
        "\r\n",
        "# Imprime el valor del área con 2 decimales. \r\n",
        "print(\"\\nVolumen = {:.2f}\".format(a))"
      ],
      "execution_count": null,
      "outputs": [
        {
          "output_type": "stream",
          "text": [
            "Proporcionar primero el RADIO del cilindro y después se ALTURA: 6\n",
            "12\n",
            "\n",
            "Volumen = 1357.17\n"
          ],
          "name": "stdout"
        }
      ]
    },
    {
      "cell_type": "markdown",
      "metadata": {
        "id": "-_J5cs9ZiLg9"
      },
      "source": [
        "# Ejercicio 2\r\n",
        "Crear un programa que encuentre las soluciones de una ecuación cuadrática.\r\n",
        "\r\n",
        "Su expresión general es:\r\n",
        "$$ Ax^2+Bx+C=0, A\\not= 0 $$\r\n",
        "\r\n",
        "Donde x es la variable y A,B y C son coeficientes constantes.\r\n",
        "\r\n",
        "La conocida como \"fórmula general\", en realidad siendo la fórmula de Bhaskara es:\r\n",
        "$$ x_{1, 2} =\\frac{-B\\pm \\sqrt {B^2-4AC}}{2A} $$\r\n",
        "\r\n"
      ]
    },
    {
      "cell_type": "code",
      "metadata": {
        "colab": {
          "base_uri": "https://localhost:8080/"
        },
        "id": "tV3_9aR_mhNq",
        "outputId": "5f6579fa-a492-4f66-e59e-1e01f41441ff"
      },
      "source": [
        "#Usamos la biblioteca numpy \r\n",
        "import numpy as np\r\n",
        "\r\n",
        "#Solicitamos al usuario el valor de los coeficientes\r\n",
        "A = float ( input(\"Ingrese el coeficiente A de la variable cuadrática\\n\"))\r\n",
        "B = float ( input(\"Ingrese el coeficiente B de la variable lineal\\n\"))\r\n",
        "C = float ( input(\"Ingrese el término C independiente\\n\"))\r\n",
        "\r\n",
        "#Pondremos un condicionante si la solución es con variable compleja\r\n",
        "if ((B**2)-4*A*C) < 0:\r\n",
        "  print(\"Tiene raices con números complejos\")\r\n",
        "\r\n",
        "#Si el if no se cumple continuará con normalidad\r\n",
        "else:\r\n",
        "  x1 = (-B+np.sqrt (B**2-(4*A*C)))/(2*A)\r\n",
        "  x2 = (-B-np.sqrt (B**2-(4*A*C)))/(2*A)\r\n",
        "\r\n",
        "#Se imprimirán las soluciones de la ecuación con 5 decimales\r\n",
        "print(\"\\nX_1: {:.4f}\" .format(x1))\r\n",
        "print(\"\\nX_2: {:.4f}\" .format(x2))\r\n"
      ],
      "execution_count": null,
      "outputs": [
        {
          "output_type": "stream",
          "text": [
            "Ingrese el coeficiente A de la variable cuadrática\n",
            "1\n",
            "Ingrese el coeficiente B de la variable lineal\n",
            "4\n",
            "Ingrese el término C independiente\n",
            "2\n",
            "\n",
            "X_1: -0.5858\n",
            "\n",
            "X_2: -3.4142\n"
          ],
          "name": "stdout"
        }
      ]
    },
    {
      "cell_type": "markdown",
      "metadata": {
        "id": "GYTrXHQYqKFU"
      },
      "source": [
        "# Ejercicio 3 \r\n",
        "\r\n",
        "Implementar el método Babilonio (o Método de Herón), para calcular la raíz cuadrada de un número S, cuando la sucesión converja con un error menor a 0.01. Compare con el valor obtenido por el método Babilonio con el valor de la función np.sqrt(S).\r\n",
        "\r\n",
        "$$ x_0 \\approx \\sqrt{S} $$\r\n",
        "\r\n",
        "$$ x_{n+1} = \\frac{1}{2}(x_n+\\frac{S}{x_n})  $$\r\n",
        "\r\n",
        "$$ \\sqrt{S} = \\lim_{n\\to\\infty}x_n $$\r\n"
      ]
    },
    {
      "cell_type": "code",
      "metadata": {
        "id": "D-zM-rawdMkY"
      },
      "source": [
        "#Utilizaremos una biblioteca\r\n",
        "import numpy as np"
      ],
      "execution_count": null,
      "outputs": []
    },
    {
      "cell_type": "code",
      "metadata": {
        "colab": {
          "base_uri": "https://localhost:8080/"
        },
        "id": "CtjZpiIGVXkx",
        "outputId": "bb5de2e4-3367-4247-ded5-7cf34cd2780f"
      },
      "source": [
        "print(\"Introduzca un número para saber su raíz cuadrada\" )\r\n",
        "\r\n",
        "S = float(input())\r\n",
        "\r\n",
        "X0 = np.sqrt(S)\r\n",
        "\r\n",
        "print(\"La raíz cuadrada es:\", X0)\r\n",
        "\r\n",
        "print(\"Introduzca un número arbitrario lo más cercano a\", X0)\r\n",
        "\r\n",
        "Xn = float(input())\r\n",
        "\r\n",
        "i = 1\r\n",
        "\r\n",
        "Xn = 1/2*(Xn+(S/Xn))\r\n",
        "\r\n",
        "while abs(S-Xn**2)>0.01:\r\n",
        "    \r\n",
        "    print(\"Ciclo\", i, \":\", Xn )\r\n",
        "    \r\n",
        "    Xn=1/2*(Xn+(S/Xn))\r\n",
        "    \r\n",
        "    i=i+1\r\n",
        "    \r\n",
        "    if i>101:\r\n",
        "        \r\n",
        "        break\r\n",
        "        \r\n",
        "print(\"El valor obtenido de\", S, \"por el método Babilónico es:\", Xn)\r\n",
        "\r\n",
        "print(\"Raíz por el método directo:\", X0)\r\n",
        "\r\n",
        "print(\"Raíz por el método Babilónico:\", Xn)"
      ],
      "execution_count": null,
      "outputs": [
        {
          "output_type": "stream",
          "text": [
            "Introduzca un número para saber su raíz cuadrada\n",
            "7\n",
            "La raíz cuadrada es: 2.6457513110645907\n",
            "Introduzca un número arbitrario lo más cercano a 2.6457513110645907\n",
            "2.65\n",
            "El valor obtenido de 7.0 por el método Babilónico es: 2.6457547169811324\n",
            "Raíz por el método directo: 2.6457513110645907\n",
            "Raíz por el método Babilónico: 2.6457547169811324\n"
          ],
          "name": "stdout"
        }
      ]
    },
    {
      "cell_type": "markdown",
      "metadata": {
        "id": "ISz3egkUfv8s"
      },
      "source": [
        "#Ejercicio 4\r\n",
        "\r\n",
        "Reproduce la figura que aparece inmediatamente abajo en el artículo de Wikipedia sobre Series de Taylor, que muestra la aproximación de la función ln(1+x) alrededor de x=0.\r\n",
        "\r\n",
        "$$ ln(1+x)= \\sum_{n=1}^{\\infty} (-1)^{n+1} \\frac{x^n}{n}=x-\\frac{x^2}{2}+\\frac{x^3}{3}-\\cdots $$ para $$ -1\\leq x\\leq 1 $$"
      ]
    },
    {
      "cell_type": "code",
      "metadata": {
        "id": "9KRPQGG9iehF",
        "colab": {
          "base_uri": "https://localhost:8080/",
          "height": 329
        },
        "outputId": "199de4fb-1017-43fa-be14-5770ca92b2e1"
      },
      "source": [
        "# Cargamos la sub biblioteca pytlot de Matplotlib \r\n",
        "import numpy as np\r\n",
        "import matplotlib.pyplot as plt\r\n",
        "\r\n",
        "# Gráfica de funciones\r\n",
        "# Definimos las funciones y variables\r\n",
        "x = np.linspace(-1.5,1.5,100)  # arrego de 100 puntos entre -pi y pi\r\n",
        "y = np.log(1+x)      # y será también un arreglo de 100 puntos automáticamente \r\n",
        "y1 = x**1/(1)\r\n",
        "y2 = x**2/(2)\r\n",
        "y3 = x**3/(3)\r\n",
        "y4 = x**4/(4)\r\n",
        "y5 = x**5/(5)\r\n",
        "#y6 = x**6/(6)\r\n",
        "#y7 = x**7/(7)\r\n",
        "sT = y1 - y2 + y3 - y4 + y5 # Serie de Taylor de ln(1+x) de 5to. Orden.\r\n",
        "\r\n",
        "# Creamos las gráficas\r\n",
        "plt.subplot(111)\r\n",
        "plt.xlabel(\"X label\")\r\n",
        "plt.ylabel(\"Y label\")\r\n",
        "plt.title(\"Serie de Taylor para Ln(1+x) alrededor de x0\")\r\n",
        "\r\n",
        "# Graficamos varias funciones\r\n",
        "plt.plot(x,y, label=\"ln(1+x)\")\r\n",
        "plt.plot(x,y1, label='x^1/1')\r\n",
        "#plt.plot(x,y4, label='x^4/4')\r\n",
        "#plt.plot(x,y7, label='x^5/5')\r\n",
        "plt.plot(x,sT, label='Serie de Taylor 5to. Orden ')\r\n",
        "\r\n",
        "# Agregmos una malla\r\n",
        "plt.grid(True)\r\n",
        "\r\n",
        "# Fijamos los límites en el eje Y.\r\n",
        "plt.ylim(-4, 2)\r\n",
        "\r\n",
        "# Ubicación de las etiquetas de las funciones\r\n",
        "plt.legend(bbox_to_anchor=(1,1), loc=\"upper left\")\r\n",
        "plt.show()\r\n",
        "#plt.savefig('plot.png')  # Si queremos guardar en un archivo la imagen de la gráfica"
      ],
      "execution_count": 2,
      "outputs": [
        {
          "output_type": "stream",
          "text": [
            "/usr/local/lib/python3.6/dist-packages/ipykernel_launcher.py:8: RuntimeWarning: invalid value encountered in log\n",
            "  \n"
          ],
          "name": "stderr"
        },
        {
          "output_type": "display_data",
          "data": {
            "image/png": "[encoded data removed]",
            "text/plain": [
              "<Figure size 432x288 with 1 Axes>"
            ]
          },
          "metadata": {
            "tags": [],
            "needs_background": "light"
          }
        }
      ]
    },
    {
      "cell_type": "markdown",
      "metadata": {
        "id": "5rVrZGMVqKAb"
      },
      "source": [
        ""
      ]
    }
  ]
}
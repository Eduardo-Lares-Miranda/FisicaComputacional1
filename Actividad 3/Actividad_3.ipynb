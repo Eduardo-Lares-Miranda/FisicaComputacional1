{
  "nbformat": 4,
  "nbformat_minor": 0,
  "metadata": {
    "colab": {
      "name": "Actividad-3.ipynb",
      "provenance": [],
      "collapsed_sections": []
    },
    "kernelspec": {
      "name": "python3",
      "display_name": "Python 3"
    }
  },
  "cells": [
    {
      "cell_type": "markdown",
      "metadata": {
        "id": "R813bUetiVEz"
      },
      "source": [
        "#Actividad 3\r\n",
        "\r\n",
        "Primero importamos la biblioteca Numpy y Pandas, creamos una variable donde guardamos nuestra dirección URL, donde se encuentran los datos que vamos a utilizar. Hacemos un DataFrame df que se alimenta de nuestro archivo en la dirección URL. Como no conocemos la cantidad de renglones que no son de interes, imprimimos el encabezado y final del dataframe utilizamos las operaciones df.head y df.tail para visualizar la cantidad de renglones que omitiremos, de manera que solamente estaremos trabajando con datos relevantes."
      ]
    },
    {
      "cell_type": "code",
      "metadata": {
        "id": "dIR8VvB7iRaT"
      },
      "source": [
        "import pandas as pd\r\n",
        "import numpy as np"
      ],
      "execution_count": 1,
      "outputs": []
    },
    {
      "cell_type": "code",
      "metadata": {
        "id": "QuaxkX_Hisk2"
      },
      "source": [
        "url = \"https://raw.githubusercontent.com/Eduardo-Lares-Miranda/FisicaComputacional1/master/Actividad%203/Datosdiarios.txt\"\r\n",
        "\r\n",
        "nombres = ['Fecha', 'Precip', 'Evap', 'TMax', 'TMin']\r\n",
        "\r\n",
        "df_data = pd.read_csv( url, names=nombres, encoding='cp1251', sep='\\s+', header=None, skiprows=19, skipfooter=1, engine='python' )"
      ],
      "execution_count": 2,
      "outputs": []
    },
    {
      "cell_type": "markdown",
      "metadata": {
        "id": "R8OouaysrmIr"
      },
      "source": [
        "Una vez leído tu archivo de datos, usando la función \"df.head(n)\" y \"df.tail()\", y estudia la estructura de tu archivo, para determinar que renglones trae la información de los nombres de las columnas y en qué número de renglón comienzan los datos. Buscamos quedarnos con un DataFrame con los nombres de las columnas en el primer renglón y el resto de renglones serán sólo datos diarios de la estación meteorológica."
      ]
    },
    {
      "cell_type": "code",
      "metadata": {
        "colab": {
          "base_uri": "https://localhost:8080/"
        },
        "id": "VtlbxXXhjtSD",
        "outputId": "15d86814-d255-4785-e908-0718305762d3"
      },
      "source": [
        "#Revisamos el encabezado y el final del dataframe\r\n",
        "print(df_data.head())\r\n",
        "print(\" \")\r\n",
        "print(df_data.tail())\r\n",
        "print(\" \")"
      ],
      "execution_count": 3,
      "outputs": [
        {
          "output_type": "stream",
          "text": [
            "        Fecha Precip  Evap TMax  TMin\n",
            "0  06/11/1980      0  Nulo   29  Nulo\n",
            "1  07/11/1980      0  Nulo   32     9\n",
            "2  08/11/1980      0  Nulo   31     8\n",
            "3  09/11/1980      0  Nulo   31     7\n",
            "4  10/11/1980      0  Nulo   30     9\n",
            " \n",
            "                                   Fecha Precip  Evap  TMax  TMin\n",
            "12484                         28/03/2016      0  Nulo    30    12\n",
            "12485                         29/03/2016      0  Nulo    27    16\n",
            "12486                         30/03/2016      0  Nulo    26     6\n",
            "12487                         31/03/2016      0  Nulo  Nulo     5\n",
            "12488  ---------------------------------   None  None  None  None\n",
            " \n"
          ],
          "name": "stdout"
        }
      ]
    },
    {
      "cell_type": "markdown",
      "metadata": {
        "id": "0LUuSjmyp8kd"
      },
      "source": [
        "Se pide explorar el dataframe recién cargado a la memoria. Para esto, se pide hacer una bitácora anotando o agregando un comentario de las acciones desarrolladas."
      ]
    },
    {
      "cell_type": "code",
      "metadata": {
        "colab": {
          "base_uri": "https://localhost:8080/"
        },
        "id": "kME56Wcjj274",
        "outputId": "93cb145e-aff5-4fb6-ad92-14d734c5c2cc"
      },
      "source": [
        "#Revisamos los encabezados y el final del dataf rame\r\n",
        "print(df_data.head(10))  \r\n",
        "print(\" \")\r\n",
        "print(df_data.tail(10))  \r\n",
        "print(\" \")"
      ],
      "execution_count": 4,
      "outputs": [
        {
          "output_type": "stream",
          "text": [
            "        Fecha Precip  Evap TMax  TMin\n",
            "0  06/11/1980      0  Nulo   29  Nulo\n",
            "1  07/11/1980      0  Nulo   32     9\n",
            "2  08/11/1980      0  Nulo   31     8\n",
            "3  09/11/1980      0  Nulo   31     7\n",
            "4  10/11/1980      0  Nulo   30     9\n",
            "5  11/11/1980      0  Nulo   31    10\n",
            "6  12/11/1980      0  Nulo   29     9\n",
            "7  13/11/1980      0  Nulo   29    12\n",
            "8  14/11/1980      0  Nulo   27     8\n",
            "9  15/11/1980      0  Nulo   24     7\n",
            " \n",
            "                                   Fecha Precip  Evap  TMax  TMin\n",
            "12479                         23/03/2016      0  Nulo    31    17\n",
            "12480                         24/03/2016      0  Nulo    29    12\n",
            "12481                         25/03/2016      0  Nulo    30    12\n",
            "12482                         26/03/2016      0  Nulo    30    13\n",
            "12483                         27/03/2016      0  Nulo    33    13\n",
            "12484                         28/03/2016      0  Nulo    30    12\n",
            "12485                         29/03/2016      0  Nulo    27    16\n",
            "12486                         30/03/2016      0  Nulo    26     6\n",
            "12487                         31/03/2016      0  Nulo  Nulo     5\n",
            "12488  ---------------------------------   None  None  None  None\n",
            " \n"
          ],
          "name": "stdout"
        }
      ]
    },
    {
      "cell_type": "code",
      "metadata": {
        "colab": {
          "base_uri": "https://localhost:8080/"
        },
        "id": "VJ3Rpu8ekShG",
        "outputId": "3fbdad44-749c-4a58-f6ec-605621eb0c32"
      },
      "source": [
        "#Revisamos el tamaño con la función shap\r\n",
        "print(df_data.shape)"
      ],
      "execution_count": 5,
      "outputs": [
        {
          "output_type": "stream",
          "text": [
            "(12489, 5)\n"
          ],
          "name": "stdout"
        }
      ]
    },
    {
      "cell_type": "code",
      "metadata": {
        "colab": {
          "base_uri": "https://localhost:8080/"
        },
        "id": "xiq6GJFQkWCy",
        "outputId": "084242c5-557f-4fe9-b929-17ccae915817"
      },
      "source": [
        "#Mostramos la información del archivo txt\r\n",
        "print(df_data.info())"
      ],
      "execution_count": 6,
      "outputs": [
        {
          "output_type": "stream",
          "text": [
            "<class 'pandas.core.frame.DataFrame'>\n",
            "RangeIndex: 12489 entries, 0 to 12488\n",
            "Data columns (total 5 columns):\n",
            " #   Column  Non-Null Count  Dtype \n",
            "---  ------  --------------  ----- \n",
            " 0   Fecha   12489 non-null  object\n",
            " 1   Precip  12488 non-null  object\n",
            " 2   Evap    12488 non-null  object\n",
            " 3   TMax    12488 non-null  object\n",
            " 4   TMin    12488 non-null  object\n",
            "dtypes: object(5)\n",
            "memory usage: 488.0+ KB\n",
            "None\n"
          ],
          "name": "stdout"
        }
      ]
    },
    {
      "cell_type": "code",
      "metadata": {
        "colab": {
          "base_uri": "https://localhost:8080/"
        },
        "id": "lm0-7AuSkZ5I",
        "outputId": "bcd0853a-5e1e-48b9-dbac-d96edd7ec02d"
      },
      "source": [
        "#Hacemos una copia y conservamos el DataFrame original\r\n",
        "df_tran0 = df_data.copy()\r\n",
        "\r\n",
        "print(df_tran0.head())"
      ],
      "execution_count": 7,
      "outputs": [
        {
          "output_type": "stream",
          "text": [
            "        Fecha Precip  Evap TMax  TMin\n",
            "0  06/11/1980      0  Nulo   29  Nulo\n",
            "1  07/11/1980      0  Nulo   32     9\n",
            "2  08/11/1980      0  Nulo   31     8\n",
            "3  09/11/1980      0  Nulo   31     7\n",
            "4  10/11/1980      0  Nulo   30     9\n"
          ],
          "name": "stdout"
        }
      ]
    },
    {
      "cell_type": "code",
      "metadata": {
        "colab": {
          "base_uri": "https://localhost:8080/"
        },
        "id": "jTgCcTSIkiWR",
        "outputId": "35cca399-4622-4202-b9d3-f70e6cc6e28a"
      },
      "source": [
        "#Hacemos un reemplazo de los 'Nulo' por un espacio en blanco\r\n",
        "str_nulo = 'Nulo'\r\n",
        "df_tran1 = df_tran0.replace( to_replace=str_nulo, value='', regex=True)\r\n",
        "\r\n",
        "print(df_tran1.head())"
      ],
      "execution_count": 8,
      "outputs": [
        {
          "output_type": "stream",
          "text": [
            "        Fecha Precip Evap TMax TMin\n",
            "0  06/11/1980      0        29     \n",
            "1  07/11/1980      0        32    9\n",
            "2  08/11/1980      0        31    8\n",
            "3  09/11/1980      0        31    7\n",
            "4  10/11/1980      0        30    9\n"
          ],
          "name": "stdout"
        }
      ]
    },
    {
      "cell_type": "code",
      "metadata": {
        "colab": {
          "base_uri": "https://localhost:8080/"
        },
        "id": "IOsZMxCQkpmy",
        "outputId": "4d453b83-af2c-4c7c-fe47-cb14d5c1ba63"
      },
      "source": [
        "#Se imprime la información actualizada\r\n",
        "print(df_tran1.info())\r\n",
        "print(\" \")\r\n",
        "print(df_tran1.head())\r\n",
        "print(\" \")"
      ],
      "execution_count": 9,
      "outputs": [
        {
          "output_type": "stream",
          "text": [
            "<class 'pandas.core.frame.DataFrame'>\n",
            "RangeIndex: 12489 entries, 0 to 12488\n",
            "Data columns (total 5 columns):\n",
            " #   Column  Non-Null Count  Dtype \n",
            "---  ------  --------------  ----- \n",
            " 0   Fecha   12489 non-null  object\n",
            " 1   Precip  12488 non-null  object\n",
            " 2   Evap    12488 non-null  object\n",
            " 3   TMax    12488 non-null  object\n",
            " 4   TMin    12488 non-null  object\n",
            "dtypes: object(5)\n",
            "memory usage: 488.0+ KB\n",
            "None\n",
            " \n",
            "        Fecha Precip Evap TMax TMin\n",
            "0  06/11/1980      0        29     \n",
            "1  07/11/1980      0        32    9\n",
            "2  08/11/1980      0        31    8\n",
            "3  09/11/1980      0        31    7\n",
            "4  10/11/1980      0        30    9\n",
            " \n"
          ],
          "name": "stdout"
        }
      ]
    },
    {
      "cell_type": "code",
      "metadata": {
        "id": "ZCYo01Xnkshd"
      },
      "source": [
        "#Convertimos los valores de las variables ambientales a numeros flotantes\r\n",
        "cols_list = ['Fecha', 'Precip', 'Evap', 'TMax', 'TMin']\r\n",
        "for cols in cols_list:\r\n",
        "  df_tran1[cols] = pd.to_numeric(df_tran1[cols], errors='coerce')"
      ],
      "execution_count": 13,
      "outputs": []
    },
    {
      "cell_type": "code",
      "metadata": {
        "colab": {
          "base_uri": "https://localhost:8080/"
        },
        "id": "TILUsp9wmTj1",
        "outputId": "532de4a3-93c3-4ee3-d7d8-e9ad8df1f3f2"
      },
      "source": [
        "print(df_tran1.info())"
      ],
      "execution_count": 14,
      "outputs": [
        {
          "output_type": "stream",
          "text": [
            "<class 'pandas.core.frame.DataFrame'>\n",
            "RangeIndex: 12489 entries, 0 to 12488\n",
            "Data columns (total 5 columns):\n",
            " #   Column  Non-Null Count  Dtype  \n",
            "---  ------  --------------  -----  \n",
            " 0   Fecha   0 non-null      float64\n",
            " 1   Precip  12475 non-null  float64\n",
            " 2   Evap    0 non-null      float64\n",
            " 3   TMax    12435 non-null  float64\n",
            " 4   TMin    12457 non-null  float64\n",
            "dtypes: float64(5)\n",
            "memory usage: 488.0 KB\n",
            "None\n"
          ],
          "name": "stdout"
        }
      ]
    },
    {
      "cell_type": "code",
      "metadata": {
        "colab": {
          "base_uri": "https://localhost:8080/"
        },
        "id": "-VSsmWDamX2C",
        "outputId": "40cdebad-5519-4b03-8ff7-dea03e6e1b83"
      },
      "source": [
        "#Se suman los valores nulos\r\n",
        "print(df_tran1.isnull().sum())"
      ],
      "execution_count": 15,
      "outputs": [
        {
          "output_type": "stream",
          "text": [
            "Fecha     12489\n",
            "Precip       14\n",
            "Evap      12489\n",
            "TMax         54\n",
            "TMin         32\n",
            "dtype: int64\n"
          ],
          "name": "stdout"
        }
      ]
    },
    {
      "cell_type": "code",
      "metadata": {
        "colab": {
          "base_uri": "https://localhost:8080/"
        },
        "id": "tjDyjp6kpDpa",
        "outputId": "ee628f07-56e2-429f-8b7a-4bcf58f94431"
      },
      "source": [
        "print(df_tran1.head())\r\n",
        "print(\" \")\r\n",
        "print(df_tran1.head())\r\n",
        "print(\" \")"
      ],
      "execution_count": 16,
      "outputs": [
        {
          "output_type": "stream",
          "text": [
            "   Fecha  Precip  Evap  TMax  TMin\n",
            "0    NaN     0.0   NaN  29.0   NaN\n",
            "1    NaN     0.0   NaN  32.0   9.0\n",
            "2    NaN     0.0   NaN  31.0   8.0\n",
            "3    NaN     0.0   NaN  31.0   7.0\n",
            "4    NaN     0.0   NaN  30.0   9.0\n",
            " \n",
            "   Fecha  Precip  Evap  TMax  TMin\n",
            "0    NaN     0.0   NaN  29.0   NaN\n",
            "1    NaN     0.0   NaN  32.0   9.0\n",
            "2    NaN     0.0   NaN  31.0   8.0\n",
            "3    NaN     0.0   NaN  31.0   7.0\n",
            "4    NaN     0.0   NaN  30.0   9.0\n",
            " \n"
          ],
          "name": "stdout"
        }
      ]
    },
    {
      "cell_type": "code",
      "metadata": {
        "colab": {
          "base_uri": "https://localhost:8080/"
        },
        "id": "yzXmv2p2pPKx",
        "outputId": "efe8ed11-2d4e-4ba9-f7a3-0aa1e2ee0b90"
      },
      "source": [
        "#Realizamos un análisis estadístico de las variables\r\n",
        "print(df_tran1.describe().round(4))"
      ],
      "execution_count": 17,
      "outputs": [
        {
          "output_type": "stream",
          "text": [
            "       Fecha      Precip  Evap        TMax        TMin\n",
            "count    0.0  12475.0000   0.0  12435.0000  12457.0000\n",
            "mean     NaN      1.2537   NaN     31.9498     13.4062\n",
            "std      NaN      5.1950   NaN      7.5476      7.7584\n",
            "min      NaN      0.0000   NaN      8.0000     -6.0000\n",
            "25%      NaN      0.0000   NaN     26.0000      7.0000\n",
            "50%      NaN      0.0000   NaN     33.0000     13.0000\n",
            "75%      NaN      0.0000   NaN     38.0000     21.0000\n",
            "max      NaN     77.0000   NaN     48.0000     31.0000\n"
          ],
          "name": "stdout"
        }
      ]
    },
    {
      "cell_type": "markdown",
      "metadata": {
        "id": "gUNhCBuAs8c7"
      },
      "source": [
        "Análisis de la variable Fecha. Pandas maneja las variables tipo Fecha y Tiempo. Ofrece una serie de herramientas para su manipulación. Lo que sigue es convertir el objeto que se ha leído a una variable que Python comprenda."
      ]
    },
    {
      "cell_type": "code",
      "metadata": {
        "colab": {
          "base_uri": "https://localhost:8080/"
        },
        "id": "jGhN5Q0DpSfX",
        "outputId": "78845457-6d23-403f-84a8-6177d919ea1f"
      },
      "source": [
        "#Hacemos una copia y conservamos el Dataframe\r\n",
        "df_tran2 = df_tran1.copy()\r\n",
        "\r\n",
        "print(df_tran2['Fecha'].head()) "
      ],
      "execution_count": 18,
      "outputs": [
        {
          "output_type": "stream",
          "text": [
            "0   NaN\n",
            "1   NaN\n",
            "2   NaN\n",
            "3   NaN\n",
            "4   NaN\n",
            "Name: Fecha, dtype: float64\n"
          ],
          "name": "stdout"
        }
      ]
    },
    {
      "cell_type": "code",
      "metadata": {
        "colab": {
          "base_uri": "https://localhost:8080/"
        },
        "id": "O3vqVgo5pZOZ",
        "outputId": "2eecfed2-070c-44e1-8542-58640b07c846"
      },
      "source": [
        "\r\n",
        "# Pandas tiene la función pd.to_datetime que convierte una cadena en tipo datetime64[ns]\r\n",
        "# Intentamos a ver si Python reconoce el formato en nuestro caso. \r\n",
        "# Agregamos la opción de que el primer dato es el día (dayfirst=True)\r\n",
        "df_tran2['Fecha']=pd.to_datetime(df_tran2['Fecha'], dayfirst=True).copy()\r\n",
        "print(df_tran2.head())"
      ],
      "execution_count": 19,
      "outputs": [
        {
          "output_type": "stream",
          "text": [
            "  Fecha  Precip  Evap  TMax  TMin\n",
            "0   NaT     0.0   NaN  29.0   NaN\n",
            "1   NaT     0.0   NaN  32.0   9.0\n",
            "2   NaT     0.0   NaN  31.0   8.0\n",
            "3   NaT     0.0   NaN  31.0   7.0\n",
            "4   NaT     0.0   NaN  30.0   9.0\n"
          ],
          "name": "stdout"
        }
      ]
    },
    {
      "cell_type": "code",
      "metadata": {
        "colab": {
          "base_uri": "https://localhost:8080/"
        },
        "id": "0_OVdUINpeSq",
        "outputId": "fce2a2c3-1a37-467b-e1c1-3e07388f9978"
      },
      "source": [
        "#Verificamos que las columnas sean del tipo que queremos\r\n",
        "df_tran2.dtypes"
      ],
      "execution_count": 20,
      "outputs": [
        {
          "output_type": "execute_result",
          "data": {
            "text/plain": [
              "Fecha     datetime64[ns]\n",
              "Precip           float64\n",
              "Evap             float64\n",
              "TMax             float64\n",
              "TMin             float64\n",
              "dtype: object"
            ]
          },
          "metadata": {
            "tags": []
          },
          "execution_count": 20
        }
      ]
    },
    {
      "cell_type": "code",
      "metadata": {
        "id": "bkG5eRhOpiwu"
      },
      "source": [
        "#Agregamos columnas adicionales\r\n",
        "df_tran2['Año'] = df_tran2['Fecha'].dt.year\r\n",
        "df_tran2['Mes'] = df_tran2['Fecha'].dt.month"
      ],
      "execution_count": 21,
      "outputs": []
    },
    {
      "cell_type": "code",
      "metadata": {
        "colab": {
          "base_uri": "https://localhost:8080/"
        },
        "id": "KhjsuG8hpkzM",
        "outputId": "bd53a3ae-f248-46c1-af29-9688e61c6354"
      },
      "source": [
        "#Revisamos si fueron creadas\r\n",
        "print(df_tran2.head())\r\n",
        "print(\" \")\r\n",
        "print(df_tran2.tail())\r\n",
        "print(\" \")"
      ],
      "execution_count": 22,
      "outputs": [
        {
          "output_type": "stream",
          "text": [
            "  Fecha  Precip  Evap  TMax  TMin  Año  Mes\n",
            "0   NaT     0.0   NaN  29.0   NaN  NaN  NaN\n",
            "1   NaT     0.0   NaN  32.0   9.0  NaN  NaN\n",
            "2   NaT     0.0   NaN  31.0   8.0  NaN  NaN\n",
            "3   NaT     0.0   NaN  31.0   7.0  NaN  NaN\n",
            "4   NaT     0.0   NaN  30.0   9.0  NaN  NaN\n",
            " \n",
            "      Fecha  Precip  Evap  TMax  TMin  Año  Mes\n",
            "12484   NaT     0.0   NaN  30.0  12.0  NaN  NaN\n",
            "12485   NaT     0.0   NaN  27.0  16.0  NaN  NaN\n",
            "12486   NaT     0.0   NaN  26.0   6.0  NaN  NaN\n",
            "12487   NaT     0.0   NaN   NaN   5.0  NaN  NaN\n",
            "12488   NaT     NaN   NaN   NaN   NaN  NaN  NaN\n",
            " \n"
          ],
          "name": "stdout"
        }
      ]
    },
    {
      "cell_type": "code",
      "metadata": {
        "colab": {
          "base_uri": "https://localhost:8080/"
        },
        "id": "AwA-y9REprPf",
        "outputId": "933f7ec7-914f-4ade-d373-1d45cd66eda6"
      },
      "source": [
        "#Nos aseguramos que mes y año sean variables numéricas\r\n",
        "print(df_tran2.info())\r\n"
      ],
      "execution_count": 23,
      "outputs": [
        {
          "output_type": "stream",
          "text": [
            "<class 'pandas.core.frame.DataFrame'>\n",
            "RangeIndex: 12489 entries, 0 to 12488\n",
            "Data columns (total 7 columns):\n",
            " #   Column  Non-Null Count  Dtype         \n",
            "---  ------  --------------  -----         \n",
            " 0   Fecha   0 non-null      datetime64[ns]\n",
            " 1   Precip  12475 non-null  float64       \n",
            " 2   Evap    0 non-null      float64       \n",
            " 3   TMax    12435 non-null  float64       \n",
            " 4   TMin    12457 non-null  float64       \n",
            " 5   Año     0 non-null      float64       \n",
            " 6   Mes     0 non-null      float64       \n",
            "dtypes: datetime64[ns](1), float64(6)\n",
            "memory usage: 683.1 KB\n",
            "None\n"
          ],
          "name": "stdout"
        }
      ]
    }
  ]
}